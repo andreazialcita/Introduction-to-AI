{
  "nbformat": 4,
  "nbformat_minor": 0,
  "metadata": {
    "colab": {
      "provenance": []
    },
    "kernelspec": {
      "name": "python3",
      "display_name": "Python 3"
    },
    "language_info": {
      "name": "python"
    }
  },
  "cells": [
    {
      "cell_type": "markdown",
      "source": [
        "Ang, Brayden Jansen O.\n",
        "\n",
        "Zialcita, Andrea Mikaela S.\n",
        "\n",
        "---\n",
        "\n",
        "CSCI 111 Final Project\n",
        "\n",
        "8-Puzzle Problem"
      ],
      "metadata": {
        "id": "aNnNg8VGQxgH"
      }
    },
    {
      "cell_type": "code",
      "source": [
        "import numpy as np"
      ],
      "metadata": {
        "id": "cJJJc_1jIAC7"
      },
      "execution_count": null,
      "outputs": []
    },
    {
      "cell_type": "markdown",
      "source": [
        "In the 8-puzzle problem, we represent a state as a complete 3 by 3 NumPy array containing each of `0, 1, 2, ..., 8` exactly once. The numbers `1, 2, ..., 8` represent tile 1, tile 2, ..., tile 8, respectively, while the number `0` represents the empty space, which we will refer to as the zero tile.\n",
        "\n",
        "The goal state, or the state we want to achieve, is then given as:"
      ],
      "metadata": {
        "id": "8anQGo-s0_1_"
      }
    },
    {
      "cell_type": "code",
      "source": [
        "numbers = [0, 1, 2, 3, 4, 5, 6, 7, 8]\n",
        "goal_state = np.array(numbers).reshape(3, 3)\n",
        "goal_state"
      ],
      "metadata": {
        "colab": {
          "base_uri": "https://localhost:8080/"
        },
        "id": "EwXxtTbeHuqp",
        "outputId": "9da1efcf-10f1-429b-d04e-06e349d5cc14"
      },
      "execution_count": null,
      "outputs": [
        {
          "output_type": "execute_result",
          "data": {
            "text/plain": [
              "array([[0, 1, 2],\n",
              "       [3, 4, 5],\n",
              "       [6, 7, 8]])"
            ]
          },
          "metadata": {},
          "execution_count": 23
        }
      ]
    },
    {
      "cell_type": "markdown",
      "source": [
        "We then define operations on a given state that represent possible actions to transform the state into another state. In any setup of the board, we can move at most four different tiles, namely the ones to the left of, above, to the right of, and below the zero tile, to the zero tile, effectively swapping their positions.\n",
        "\n",
        "We use `swap_left` to denote the action of swapping the zero tile with the tile to its left (if it exists), `swap_up` to denote the action of swapping the zero tile with the tile above it (if it exists), and so on."
      ],
      "metadata": {
        "id": "qFpG2MRU2o3f"
      }
    },
    {
      "cell_type": "code",
      "source": [
        "def swap_left(state):\n",
        "  if 0 not in state[:, 0]:\n",
        "    new_state = state.copy()\n",
        "    r, c = np.where(new_state == 0)\n",
        "    new_state[r[0], c[0]], new_state[r[0], c[0] - 1] = new_state[r[0], c[0] - 1], new_state[r[0], c[0]]\n",
        "    return new_state\n",
        "  else:\n",
        "    return None\n",
        "\n",
        "def swap_up(state):\n",
        "  if 0 not in state[0]:\n",
        "    new_state = state.copy()\n",
        "    r, c = np.where(new_state == 0)\n",
        "    new_state[r[0], c[0]], new_state[r[0] - 1, c[0]] = new_state[r[0] - 1, c[0]], new_state[r[0], c[0]]\n",
        "    return new_state\n",
        "  else:\n",
        "    return None\n",
        "\n",
        "def swap_right(state):\n",
        "  if 0 not in state[:, 2]:\n",
        "    new_state = state.copy()\n",
        "    r, c = np.where(new_state == 0)\n",
        "    new_state[r[0], c[0]], new_state[r[0], c[0] + 1] = new_state[r[0], c[0] + 1], new_state[r[0], c[0]]\n",
        "    return new_state\n",
        "  else:\n",
        "    return None\n",
        "\n",
        "def swap_down(state):\n",
        "  if 0 not in state[2]:\n",
        "    new_state = state.copy()\n",
        "    r, c = np.where(new_state == 0)\n",
        "    new_state[r[0], c[0]], new_state[r[0] + 1, c[0]] = new_state[r[0] + 1, c[0]], new_state[r[0], c[0]]\n",
        "    return new_state\n",
        "  else:\n",
        "    return None"
      ],
      "metadata": {
        "id": "BpFVptXdMjhh"
      },
      "execution_count": null,
      "outputs": []
    },
    {
      "cell_type": "markdown",
      "source": [
        "We also define other utility functions that will be used in the search algorithms."
      ],
      "metadata": {
        "id": "iiuC0ewc4Ksa"
      }
    },
    {
      "cell_type": "code",
      "source": [
        "def equal(array1, array2):\n",
        "  return np.array_equal(array1, array2)\n",
        "# Check if two NumPy arrays are equal (same shape and entries).\n",
        "\n",
        "def array_in_dict(array, dictionary):\n",
        "    flattened_array = tuple(array.flatten())\n",
        "    if flattened_array in dictionary:\n",
        "        return True\n",
        "    return False\n",
        "# Check if an array is a key in a given dictionary.\n",
        "\n",
        "def is_solvable(state):\n",
        "    flat_state = state.flatten()\n",
        "    inversions = 0\n",
        "    for i in range(len(flat_state)):\n",
        "        for j in range(i + 1, len(flat_state)):\n",
        "            if flat_state[i] > 0 and flat_state[j] > 0 and flat_state[i] > flat_state[j]:\n",
        "                inversions += 1\n",
        "    return inversions % 2 == 0\n",
        "# Check if a given state is solvable.\n",
        "\n",
        "def get_neighbors(state):\n",
        "    neighbors = []\n",
        "    for move_function in [swap_left, swap_up, swap_right, swap_down]:\n",
        "        neighbor = move_function(state)\n",
        "        if neighbor is not None:\n",
        "            neighbors.append(neighbor)\n",
        "    return neighbors\n",
        "# Generate all possible neighbors for the current state using swap functions.\n",
        "\n",
        "def find_path(initial_state: np.array, successor_list: list):\n",
        "  path = [goal_state]\n",
        "  state = goal_state\n",
        "  while not equal(state, initial_state):\n",
        "    for pair in successor_list:   # The successor_list will contain (parent, child) pairs. We use this to jump backwards (step-by-step) from the goal state to the initial state.\n",
        "      if (pair[1] == state).all():\n",
        "        path.append(pair[0])\n",
        "        state = pair[0]\n",
        "        break\n",
        "  path.reverse()\n",
        "  return tuple(path)\n",
        "# Reconstruct the path from the initial state to the goal state."
      ],
      "metadata": {
        "id": "tFO9hIpQYuaG"
      },
      "execution_count": null,
      "outputs": []
    },
    {
      "cell_type": "markdown",
      "source": [
        "# Breadth-First Search (BFS)"
      ],
      "metadata": {
        "id": "tWiX_gS5pO00"
      }
    },
    {
      "cell_type": "markdown",
      "source": [
        "In breadth-first search, we traverse the search tree by first inspecting nodes that are directly successors/neighbors of the currently inspected node. So, our frontier is a queue, or a \"first in, first out\" frontier.\n",
        "\n",
        "Note that the BFS algorithm below, if the given initial state is solvable, returns a triple containing the path from the initial state to the goal state, the length of that path (how many moves must be made to reach the goal state), and the number of nodes the algorithm had to inspect before finding the solution."
      ],
      "metadata": {
        "id": "hQUlJSCRqtFU"
      }
    },
    {
      "cell_type": "code",
      "source": [
        "from collections import deque\n",
        "\n",
        "def bfs(start):\n",
        "    if not is_solvable(start):\n",
        "        return \"This puzzle is not solvable.\"\n",
        "\n",
        "    queue = deque([start])\n",
        "    visited = {}\n",
        "    successor_list = []\n",
        "    nodes_inspected = 0\n",
        "\n",
        "    while queue:\n",
        "        current_state = queue.popleft()\n",
        "        nodes_inspected += 1\n",
        "\n",
        "        # mark the current state as visited\n",
        "        visited[tuple(current_state.flatten())] = True\n",
        "\n",
        "        # check if the current state is the goal state\n",
        "        if equal(current_state, goal_state):\n",
        "            print(\"Solvable!\")\n",
        "            path = find_path(start, successor_list)\n",
        "            return (path, len(path), nodes_inspected)\n",
        "\n",
        "        for neighbor in get_neighbors(current_state):\n",
        "            if not array_in_dict(neighbor, visited):  # check against visited dictionary\n",
        "                queue.append(neighbor)\n",
        "                successor_list.append((current_state, neighbor))\n",
        "\n",
        "    return \"No solution found.\""
      ],
      "metadata": {
        "id": "DTL8Fu_SpPeR"
      },
      "execution_count": null,
      "outputs": []
    },
    {
      "cell_type": "markdown",
      "source": [
        "## Test (Solvable)"
      ],
      "metadata": {
        "id": "yOAlXxCyrfWO"
      }
    },
    {
      "cell_type": "code",
      "source": [
        "solvable_state = np.array([[1, 8, 2],\n",
        "                        [0, 4, 3],\n",
        "                        [7, 6, 5]])\n",
        "\n",
        "bfs(solvable_state)"
      ],
      "metadata": {
        "colab": {
          "base_uri": "https://localhost:8080/"
        },
        "id": "6QOkuVQtr1wl",
        "outputId": "9df62cf0-12a0-4f54-f28e-daa9bb923844"
      },
      "execution_count": null,
      "outputs": [
        {
          "output_type": "stream",
          "name": "stdout",
          "text": [
            "Solvable!\n"
          ]
        },
        {
          "output_type": "execute_result",
          "data": {
            "text/plain": [
              "((array([[1, 8, 2],\n",
              "         [0, 4, 3],\n",
              "         [7, 6, 5]]),\n",
              "  array([[1, 8, 2],\n",
              "         [4, 0, 3],\n",
              "         [7, 6, 5]]),\n",
              "  array([[1, 0, 2],\n",
              "         [4, 8, 3],\n",
              "         [7, 6, 5]]),\n",
              "  array([[0, 1, 2],\n",
              "         [4, 8, 3],\n",
              "         [7, 6, 5]]),\n",
              "  array([[4, 1, 2],\n",
              "         [0, 8, 3],\n",
              "         [7, 6, 5]]),\n",
              "  array([[4, 1, 2],\n",
              "         [7, 8, 3],\n",
              "         [0, 6, 5]]),\n",
              "  array([[4, 1, 2],\n",
              "         [7, 8, 3],\n",
              "         [6, 0, 5]]),\n",
              "  array([[4, 1, 2],\n",
              "         [7, 0, 3],\n",
              "         [6, 8, 5]]),\n",
              "  array([[4, 1, 2],\n",
              "         [7, 3, 0],\n",
              "         [6, 8, 5]]),\n",
              "  array([[4, 1, 0],\n",
              "         [7, 3, 2],\n",
              "         [6, 8, 5]]),\n",
              "  array([[4, 0, 1],\n",
              "         [7, 3, 2],\n",
              "         [6, 8, 5]]),\n",
              "  array([[4, 3, 1],\n",
              "         [7, 0, 2],\n",
              "         [6, 8, 5]]),\n",
              "  array([[4, 3, 1],\n",
              "         [0, 7, 2],\n",
              "         [6, 8, 5]]),\n",
              "  array([[0, 3, 1],\n",
              "         [4, 7, 2],\n",
              "         [6, 8, 5]]),\n",
              "  array([[3, 0, 1],\n",
              "         [4, 7, 2],\n",
              "         [6, 8, 5]]),\n",
              "  array([[3, 1, 0],\n",
              "         [4, 7, 2],\n",
              "         [6, 8, 5]]),\n",
              "  array([[3, 1, 2],\n",
              "         [4, 7, 0],\n",
              "         [6, 8, 5]]),\n",
              "  array([[3, 1, 2],\n",
              "         [4, 7, 5],\n",
              "         [6, 8, 0]]),\n",
              "  array([[3, 1, 2],\n",
              "         [4, 7, 5],\n",
              "         [6, 0, 8]]),\n",
              "  array([[3, 1, 2],\n",
              "         [4, 0, 5],\n",
              "         [6, 7, 8]]),\n",
              "  array([[3, 1, 2],\n",
              "         [0, 4, 5],\n",
              "         [6, 7, 8]]),\n",
              "  array([[0, 1, 2],\n",
              "         [3, 4, 5],\n",
              "         [6, 7, 8]])),\n",
              " 22,\n",
              " 103525)"
            ]
          },
          "metadata": {},
          "execution_count": 27
        }
      ]
    },
    {
      "cell_type": "markdown",
      "source": [
        "## Test (Not Solvable)"
      ],
      "metadata": {
        "id": "6nliKQIdr4iV"
      }
    },
    {
      "cell_type": "code",
      "source": [
        "unsolvable_state = np.array([[8, 1, 2],\n",
        "                        [0, 4, 3],\n",
        "                        [7, 6, 5]])\n",
        "\n",
        "bfs(unsolvable_state)"
      ],
      "metadata": {
        "colab": {
          "base_uri": "https://localhost:8080/",
          "height": 35
        },
        "id": "bIxISLvlr2Pp",
        "outputId": "0463882f-914f-4e39-e64c-6208bd0cea44"
      },
      "execution_count": null,
      "outputs": [
        {
          "output_type": "execute_result",
          "data": {
            "text/plain": [
              "'This puzzle is not solvable.'"
            ],
            "application/vnd.google.colaboratory.intrinsic+json": {
              "type": "string"
            }
          },
          "metadata": {},
          "execution_count": 28
        }
      ]
    },
    {
      "cell_type": "markdown",
      "source": [
        "# Greedy Best-First Search"
      ],
      "metadata": {
        "id": "BSO3TiZ31FDo"
      }
    },
    {
      "cell_type": "markdown",
      "source": [
        "Another search algorithm we can use is the greedy best-first search. We define the heuristic function to be the total Manhattan distance of a given state, that is, the sum of how many moves each tile is from its correct position.\n",
        "\n",
        "Our frontier is then a priority queue. After every node expansion, we sort the frontier by increasing total Manhattan distance so that the algorithm prioritizes inspecting nodes with less total Manhattan distance. This is because we are interpreting states with less total Manhattan distance to be \"closer\" to the goal state, since intuitively, it will take less moves to correct the position of each tile.\n",
        "\n",
        "If the initial state is solvable, the algorithm below will again return a triple containing the path, the length of the path, and how many nodes were inspected before finding the path."
      ],
      "metadata": {
        "id": "PJmCHOs9umNn"
      }
    },
    {
      "cell_type": "code",
      "source": [
        "def correct_position(n):\n",
        "  if n == 1:\n",
        "    return (0, 1)\n",
        "  elif n == 2:\n",
        "    return (0, 2)\n",
        "  elif n == 3:\n",
        "    return (1, 0)\n",
        "  elif n == 4:\n",
        "    return (1, 1)\n",
        "  elif n == 5:\n",
        "    return (1, 2)\n",
        "  elif n == 6:\n",
        "    return (2, 0)\n",
        "  elif n == 7:\n",
        "    return (2, 1)\n",
        "  elif n == 8:\n",
        "    return (2, 2)\n",
        "  else:\n",
        "    return\n",
        "# Define the correct position of each tile.\n",
        "\n",
        "def manhattan_distance(state: np.array):\n",
        "  m = 0\n",
        "  for row in state:\n",
        "    for number in row:\n",
        "      if number != 0:   # We do not include the Manhattan distance of the zero tile, since it is not technically a tile.\n",
        "        r, c = np.where(state == number)\n",
        "        r0, c0 = correct_position(number)[0], correct_position(number)[1]\n",
        "        m += abs(r[0] - r0) + abs(c[0] - c0)\n",
        "  return m\n",
        "# Take the absolute value of the difference between a tile and its correct position's row and column number and sum over all tiles in a given state.\n",
        "\n",
        "def sort_frontier(frontier: dict):\n",
        "  sorted_items = sorted(frontier.items(), key=lambda item: item[1])\n",
        "  frontier.clear()\n",
        "  frontier.update(sorted_items)\n",
        "# Sort the frontier by increasing total Manhattan distance.\n",
        "\n",
        "def greedy(initial_state):\n",
        "  if not is_solvable(initial_state):\n",
        "    return \"The goal state is not reachable.\"\n",
        "  # Frontier is a dictionary so that we can sort states by the heuristic function.\n",
        "  frontier = {tuple(initial_state.flatten()) : manhattan_distance(initial_state)}\n",
        "  visited = {}\n",
        "  successor_list = []\n",
        "\n",
        "  # Count how many nodes are inspected.\n",
        "  nodes_inspected = 0\n",
        "\n",
        "  if equal(initial_state, goal_state):\n",
        "    return tuple([initial_state])\n",
        "  node = initial_state\n",
        "\n",
        "  while not equal(node, goal_state):\n",
        "    # Record the node as visited.\n",
        "    visited[tuple(node.flatten())] = True\n",
        "\n",
        "    nodes_inspected += 1\n",
        "\n",
        "    # Remove the currently inspected node from the frontier.\n",
        "    frontier.pop(tuple(node.flatten()))\n",
        "\n",
        "    # Expand the currently inspected node.\n",
        "    successors = get_neighbors(node)\n",
        "    for successor in successors:\n",
        "      if not array_in_dict(successor, visited) and not array_in_dict(successor, frontier):\n",
        "        successor_list.append((node, successor))\n",
        "        frontier[tuple(successor.flatten())] = manhattan_distance(successor)\n",
        "\n",
        "    # Sort the frontier by total Manhattan distance.\n",
        "    sort_frontier(frontier)\n",
        "\n",
        "    # print(frontier)\n",
        "\n",
        "    # Inspect the next node in the frontier after sorting.\n",
        "    node = np.array(next(iter(frontier))).reshape(3, 3)\n",
        "\n",
        "  # Trace back the path found from the initial state to the goal state.\n",
        "  path = find_path(initial_state, successor_list)\n",
        "  return (path, len(path), nodes_inspected)\n",
        "# You may wish to print the frontier after each node expansion to examine how the algorithm sorts the frontier by total Manhattan distance."
      ],
      "metadata": {
        "id": "WTc2QYoeJBiu"
      },
      "execution_count": null,
      "outputs": []
    },
    {
      "cell_type": "code",
      "source": [
        "solvable_state"
      ],
      "metadata": {
        "colab": {
          "base_uri": "https://localhost:8080/"
        },
        "id": "ttbDvrotJQjN",
        "outputId": "cd49148b-8265-4736-8a32-d3d1ad3f4c69"
      },
      "execution_count": null,
      "outputs": [
        {
          "output_type": "execute_result",
          "data": {
            "text/plain": [
              "array([[1, 8, 2],\n",
              "       [0, 4, 3],\n",
              "       [7, 6, 5]])"
            ]
          },
          "metadata": {},
          "execution_count": 30
        }
      ]
    },
    {
      "cell_type": "code",
      "source": [
        "greedy(solvable_state)"
      ],
      "metadata": {
        "colab": {
          "base_uri": "https://localhost:8080/"
        },
        "id": "YzX-lzSOK4jr",
        "outputId": "535543f5-542d-4d68-f8d6-145477246ae5"
      },
      "execution_count": null,
      "outputs": [
        {
          "output_type": "execute_result",
          "data": {
            "text/plain": [
              "((array([[1, 8, 2],\n",
              "         [0, 4, 3],\n",
              "         [7, 6, 5]]),\n",
              "  array([[1, 8, 2],\n",
              "         [4, 0, 3],\n",
              "         [7, 6, 5]]),\n",
              "  array([[1, 8, 2],\n",
              "         [4, 3, 0],\n",
              "         [7, 6, 5]]),\n",
              "  array([[1, 8, 2],\n",
              "         [4, 3, 5],\n",
              "         [7, 6, 0]]),\n",
              "  array([[1, 8, 2],\n",
              "         [4, 3, 5],\n",
              "         [7, 0, 6]]),\n",
              "  array([[1, 8, 2],\n",
              "         [4, 3, 5],\n",
              "         [0, 7, 6]]),\n",
              "  array([[1, 8, 2],\n",
              "         [0, 3, 5],\n",
              "         [4, 7, 6]]),\n",
              "  array([[1, 8, 2],\n",
              "         [3, 0, 5],\n",
              "         [4, 7, 6]]),\n",
              "  array([[1, 0, 2],\n",
              "         [3, 8, 5],\n",
              "         [4, 7, 6]]),\n",
              "  array([[0, 1, 2],\n",
              "         [3, 8, 5],\n",
              "         [4, 7, 6]]),\n",
              "  array([[3, 1, 2],\n",
              "         [0, 8, 5],\n",
              "         [4, 7, 6]]),\n",
              "  array([[3, 1, 2],\n",
              "         [4, 8, 5],\n",
              "         [0, 7, 6]]),\n",
              "  array([[3, 1, 2],\n",
              "         [4, 8, 5],\n",
              "         [7, 0, 6]]),\n",
              "  array([[3, 1, 2],\n",
              "         [4, 8, 5],\n",
              "         [7, 6, 0]]),\n",
              "  array([[3, 1, 2],\n",
              "         [4, 8, 0],\n",
              "         [7, 6, 5]]),\n",
              "  array([[3, 1, 2],\n",
              "         [4, 0, 8],\n",
              "         [7, 6, 5]]),\n",
              "  array([[3, 1, 2],\n",
              "         [0, 4, 8],\n",
              "         [7, 6, 5]]),\n",
              "  array([[3, 1, 2],\n",
              "         [7, 4, 8],\n",
              "         [0, 6, 5]]),\n",
              "  array([[3, 1, 2],\n",
              "         [7, 4, 8],\n",
              "         [6, 0, 5]]),\n",
              "  array([[3, 1, 2],\n",
              "         [7, 4, 8],\n",
              "         [6, 5, 0]]),\n",
              "  array([[3, 1, 2],\n",
              "         [7, 4, 0],\n",
              "         [6, 5, 8]]),\n",
              "  array([[3, 1, 2],\n",
              "         [7, 0, 4],\n",
              "         [6, 5, 8]]),\n",
              "  array([[3, 1, 2],\n",
              "         [0, 7, 4],\n",
              "         [6, 5, 8]]),\n",
              "  array([[3, 1, 2],\n",
              "         [6, 7, 4],\n",
              "         [0, 5, 8]]),\n",
              "  array([[3, 1, 2],\n",
              "         [6, 7, 4],\n",
              "         [5, 0, 8]]),\n",
              "  array([[3, 1, 2],\n",
              "         [6, 0, 4],\n",
              "         [5, 7, 8]]),\n",
              "  array([[3, 1, 2],\n",
              "         [6, 4, 0],\n",
              "         [5, 7, 8]]),\n",
              "  array([[3, 1, 2],\n",
              "         [6, 4, 8],\n",
              "         [5, 7, 0]]),\n",
              "  array([[3, 1, 2],\n",
              "         [6, 4, 8],\n",
              "         [5, 0, 7]]),\n",
              "  array([[3, 1, 2],\n",
              "         [6, 4, 8],\n",
              "         [0, 5, 7]]),\n",
              "  array([[3, 1, 2],\n",
              "         [0, 4, 8],\n",
              "         [6, 5, 7]]),\n",
              "  array([[3, 1, 2],\n",
              "         [4, 0, 8],\n",
              "         [6, 5, 7]]),\n",
              "  array([[3, 1, 2],\n",
              "         [4, 5, 8],\n",
              "         [6, 0, 7]]),\n",
              "  array([[3, 1, 2],\n",
              "         [4, 5, 8],\n",
              "         [6, 7, 0]]),\n",
              "  array([[3, 1, 2],\n",
              "         [4, 5, 0],\n",
              "         [6, 7, 8]]),\n",
              "  array([[3, 1, 2],\n",
              "         [4, 0, 5],\n",
              "         [6, 7, 8]]),\n",
              "  array([[3, 1, 2],\n",
              "         [0, 4, 5],\n",
              "         [6, 7, 8]]),\n",
              "  array([[0, 1, 2],\n",
              "         [3, 4, 5],\n",
              "         [6, 7, 8]])),\n",
              " 38,\n",
              " 324)"
            ]
          },
          "metadata": {},
          "execution_count": 31
        }
      ]
    },
    {
      "cell_type": "code",
      "source": [
        "unsolvable_state"
      ],
      "metadata": {
        "id": "WQK5LvBcSDSu",
        "colab": {
          "base_uri": "https://localhost:8080/"
        },
        "outputId": "da9b5c91-ae55-4086-d5f4-e76f014c77dd"
      },
      "execution_count": null,
      "outputs": [
        {
          "output_type": "execute_result",
          "data": {
            "text/plain": [
              "array([[8, 1, 2],\n",
              "       [0, 4, 3],\n",
              "       [7, 6, 5]])"
            ]
          },
          "metadata": {},
          "execution_count": 32
        }
      ]
    },
    {
      "cell_type": "code",
      "source": [
        "greedy(unsolvable_state)"
      ],
      "metadata": {
        "id": "eUGeTeabSEkV",
        "colab": {
          "base_uri": "https://localhost:8080/",
          "height": 35
        },
        "outputId": "cbe451b4-03c9-4de8-8466-e20452e62f23"
      },
      "execution_count": null,
      "outputs": [
        {
          "output_type": "execute_result",
          "data": {
            "text/plain": [
              "'The goal state is not reachable.'"
            ],
            "application/vnd.google.colaboratory.intrinsic+json": {
              "type": "string"
            }
          },
          "metadata": {},
          "execution_count": 33
        }
      ]
    },
    {
      "cell_type": "markdown",
      "source": [
        "# Trials"
      ],
      "metadata": {
        "id": "DJI3H4kbHzHM"
      }
    },
    {
      "cell_type": "markdown",
      "source": [
        "We create a random initial state, that is, a random permutation of the numbers `0, 1, 2, ..., 8` arranged in a 3 by 3 NumPy array."
      ],
      "metadata": {
        "id": "WegR9hnA2DpP"
      }
    },
    {
      "cell_type": "code",
      "source": [
        "# This can be run to create a different initial state each time.\n",
        "initial_state = np.random.permutation(numbers).reshape(3, 3)\n",
        "initial_state"
      ],
      "metadata": {
        "id": "YBSiK3YoIpsR"
      },
      "execution_count": null,
      "outputs": []
    },
    {
      "cell_type": "markdown",
      "source": [
        "You can run both search algorithms and compare their performance. When we performed 20 trials, all of them (where the initial state was solvable) had similar results.\n",
        "\n",
        "That is, BFS gave shorter solutions (paths to the goal state), but inspected a lot more nodes (in the hundred-thousands), while the greedy algorithm gave solutions of longer or equal length, but inspected way less nodes (in the hundreds).\n",
        "\n",
        "This is because, in the search tree, BFS searches horizontally by \"level\" or distance from the initial state. So, when it stumbles upon a goal state, the path it took is guaranteed to be of minimum distance from the initial state. But, as it is an uninformed search strategy, it does not find the goal state efficiently, and so it ends up inspecting and expanding many nodes.\n",
        "\n",
        "The greedy algorithm, on the other hand, searches by total manhattan distance, so it is not necessarily concerned if it \"strays too far\" from the initial state. But, since the total Manhattan distance is an appropriate representation of \"how far\" a state is from the goal state, the search is somewhat optimized and not as many nodes need to be inspected before the algorithm finds the goal state.\n",
        "\n",
        "So, if one wishes to find the shortest possible path from an initial state to a goal state, BFS is the way to go. But, if one wants shorter computational time, the greedy algorithm will find a longer path but by inspecting a lot less nodes."
      ],
      "metadata": {
        "id": "oOVidpZPIBJ0"
      }
    },
    {
      "cell_type": "code",
      "source": [
        "bfs(initial_state)"
      ],
      "metadata": {
        "id": "257u9ylW1vZG"
      },
      "execution_count": null,
      "outputs": []
    },
    {
      "cell_type": "code",
      "source": [
        "greedy(initial_state)"
      ],
      "metadata": {
        "id": "LTN7nRsS19QX"
      },
      "execution_count": null,
      "outputs": []
    },
    {
      "cell_type": "code",
      "source": [],
      "metadata": {
        "id": "__zrGawUzFC2"
      },
      "execution_count": null,
      "outputs": []
    }
  ]
}